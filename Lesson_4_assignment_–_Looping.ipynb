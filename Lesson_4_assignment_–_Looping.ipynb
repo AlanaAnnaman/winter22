{
  "nbformat": 4,
  "nbformat_minor": 0,
  "metadata": {
    "colab": {
      "name": "Lesson 4 assignment – Looping.ipynb",
      "provenance": [],
      "authorship_tag": "ABX9TyOik50x8ztkgUPUWts7RIG8",
      "include_colab_link": true
    },
    "kernelspec": {
      "name": "python3",
      "display_name": "Python 3"
    },
    "language_info": {
      "name": "python"
    }
  },
  "cells": [
    {
      "cell_type": "markdown",
      "metadata": {
        "id": "view-in-github",
        "colab_type": "text"
      },
      "source": [
        "<a href=\"https://colab.research.google.com/github/AlanaAnnaman/winter22/blob/main/Lesson_4_assignment_%E2%80%93_Looping.ipynb\" target=\"_parent\"><img src=\"https://colab.research.google.com/assets/colab-badge.svg\" alt=\"Open In Colab\"/></a>"
      ]
    },
    {
      "cell_type": "code",
      "execution_count": null,
      "metadata": {
        "id": "dZg71EZjbP7c"
      },
      "outputs": [],
      "source": [
        "\n",
        "\n"
      ]
    },
    {
      "cell_type": "code",
      "source": [
        "#Create a list that holds 5 data variables. \n",
        "alana = ['fruits', 'LV', 'Prada', 'Chanel', 'Jcrew']\n",
        "print(alana)\n"
      ],
      "metadata": {
        "colab": {
          "base_uri": "https://localhost:8080/"
        },
        "id": "a7Nzz9Z-bd_H",
        "outputId": "4207eb2f-2952-4724-d318-b757ddb5459a"
      },
      "execution_count": 9,
      "outputs": [
        {
          "output_type": "stream",
          "name": "stdout",
          "text": [
            "['fruits', 'LV', 'Prada', 'Chanel', 'Jcrew']\n"
          ]
        }
      ]
    },
    {
      "cell_type": "code",
      "source": [
        "#Print out those variables by using a for loop.\n",
        "alana = ['fruits', 'LV', 'Prada', 'Chanel', 'Jcrew']\n",
        "for x in alana:\n",
        "  print(x)\n"
      ],
      "metadata": {
        "colab": {
          "base_uri": "https://localhost:8080/"
        },
        "id": "WNeVcYc0ejfW",
        "outputId": "fa2041bf-0827-4607-e23c-04b465f53eea"
      },
      "execution_count": 10,
      "outputs": [
        {
          "output_type": "stream",
          "name": "stdout",
          "text": [
            "fruits\n",
            "LV\n",
            "Prada\n",
            "Chanel\n",
            "Jcrew\n"
          ]
        }
      ]
    },
    {
      "cell_type": "code",
      "source": [
        "#Modify your for loop to add a message to your for loop.\n",
        "alana = ['fruits', 'LV', 'Prada', 'Chanel', 'Jcrew']\n",
        "for x in alana: \n",
        "  print(x.title() + \" are my fave things\")"
      ],
      "metadata": {
        "colab": {
          "base_uri": "https://localhost:8080/"
        },
        "id": "HhZIahLOfclP",
        "outputId": "4c6170cb-33d1-49dd-93ba-d67c3cdb9d42"
      },
      "execution_count": 14,
      "outputs": [
        {
          "output_type": "stream",
          "name": "stdout",
          "text": [
            "Fruits are my fave things\n",
            "Lv are my fave things\n",
            "Prada are my fave things\n",
            "Chanel are my fave things\n",
            "Jcrew are my fave things\n"
          ]
        }
      ]
    },
    {
      "cell_type": "code",
      "source": [
        "#Use a for loop to print even numbers from 1-20.\n",
        "\n",
        "l = [1,2,3,4,5,6,7,8,9,10,11,12,13,14,15,16,17,18,19,20]\n",
        "for x in l:\n",
        "  if x % 2 == 0:\n",
        "    print(x)"
      ],
      "metadata": {
        "colab": {
          "base_uri": "https://localhost:8080/"
        },
        "id": "J3PFQS_HgKtj",
        "outputId": "4aa95f4f-bdae-4837-8a95-7fa7baa62de0"
      },
      "execution_count": 18,
      "outputs": [
        {
          "output_type": "stream",
          "name": "stdout",
          "text": [
            "2\n",
            "4\n",
            "6\n",
            "8\n",
            "10\n",
            "12\n",
            "14\n",
            "16\n",
            "18\n",
            "20\n"
          ]
        }
      ]
    },
    {
      "cell_type": "code",
      "source": [
        "#Sort your list in alphabetic order.\n",
        "alana = ['fruits', 'LV', 'Prada', 'Chanel', 'Jcrew']\n",
        "alana.sort()\n",
        "print(alana)"
      ],
      "metadata": {
        "colab": {
          "base_uri": "https://localhost:8080/"
        },
        "id": "nICFl7F6iB8c",
        "outputId": "a965f4d5-bf2a-401a-b8b4-ba6661f02cd6"
      },
      "execution_count": 20,
      "outputs": [
        {
          "output_type": "stream",
          "name": "stdout",
          "text": [
            "['Chanel', 'Jcrew', 'LV', 'Prada', 'fruits']\n"
          ]
        }
      ]
    },
    {
      "cell_type": "code",
      "source": [
        "#Print out the first three elements of your list.\n",
        "alana = ['fruits', 'LV', 'Prada', 'Chanel', 'Jcrew']\n",
        "alana = ['fruits', 'LV', 'Prada', 'Chanel', 'Jcrew']\n",
        "for x in alana: \n",
        "print(alana[1])\n",
        "print(alana[2])"
      ],
      "metadata": {
        "colab": {
          "base_uri": "https://localhost:8080/"
        },
        "id": "PA7Va1yWjAI5",
        "outputId": "6fe3b656-0dfc-4325-ec83-4b529c729742"
      },
      "execution_count": 26,
      "outputs": [
        {
          "output_type": "stream",
          "name": "stdout",
          "text": [
            "fruits\n",
            "LV\n",
            "Prada\n"
          ]
        }
      ]
    },
    {
      "cell_type": "code",
      "source": [
        "#Create a loop to print the last 2 elements of your list.\n",
        "alana = ['fruits', 'LV', 'Prada', 'Chanel', 'Jcrew']\n",
        "for x in alana: \n",
        "  print(x[3:])"
      ],
      "metadata": {
        "colab": {
          "base_uri": "https://localhost:8080/"
        },
        "id": "k4N0JTLxkI2a",
        "outputId": "d280f921-6484-4896-abb2-3ea11b4bf6ed"
      },
      "execution_count": 33,
      "outputs": [
        {
          "output_type": "stream",
          "name": "stdout",
          "text": [
            "its\n",
            "\n",
            "da\n",
            "nel\n",
            "ew\n"
          ]
        }
      ]
    }
  ]
}