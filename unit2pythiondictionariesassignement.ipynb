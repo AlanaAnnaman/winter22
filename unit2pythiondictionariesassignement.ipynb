{
  "nbformat": 4,
  "nbformat_minor": 0,
  "metadata": {
    "colab": {
      "name": "unit2pythiondictionariesassignement.ipynb",
      "provenance": [],
      "authorship_tag": "ABX9TyPpkgbTclNAaKHSnAgweRrO",
      "include_colab_link": true
    },
    "kernelspec": {
      "name": "python3",
      "display_name": "Python 3"
    },
    "language_info": {
      "name": "python"
    }
  },
  "cells": [
    {
      "cell_type": "markdown",
      "metadata": {
        "id": "view-in-github",
        "colab_type": "text"
      },
      "source": [
        "<a href=\"https://colab.research.google.com/github/AlanaAnnaman/winter22/blob/main/unit2pythiondictionariesassignement.ipynb\" target=\"_parent\"><img src=\"https://colab.research.google.com/assets/colab-badge.svg\" alt=\"Open In Colab\"/></a>"
      ]
    },
    {
      "cell_type": "code",
      "execution_count": 11,
      "metadata": {
        "id": "r31esRhUlnFf"
      },
      "outputs": [],
      "source": [
        "#Create a simple dictionary that stores 2 variables, for example: first and last name.\n",
        "first = {'firstname': 'Alana' , 'lastname': 'Anna'}\n",
        "last = {'lastname':''}\n"
      ]
    },
    {
      "cell_type": "code",
      "source": [
        "#Print out those variables stored in your previous dictionary\n",
        "first = {'firstname': 'Alana' , 'lastname': 'Anna'}\n",
        "\n",
        "print(first['firstname'],first['lastname'])\n"
      ],
      "metadata": {
        "colab": {
          "base_uri": "https://localhost:8080/"
        },
        "id": "pYbodCfTnIRc",
        "outputId": "357ea150-bde0-412c-8a2e-ef6a99e1615e"
      },
      "execution_count": 14,
      "outputs": [
        {
          "output_type": "stream",
          "name": "stdout",
          "text": [
            "Alana Anna\n"
          ]
        }
      ]
    },
    {
      "cell_type": "code",
      "source": [
        "#Add a message to those variables on printing: for example: “Hello, firstname lastname!”\n",
        "first = {'firstname': 'Alana' , 'lastname': 'Anna'}\n",
        "\n",
        "print(\"Hello\" , first['firstname'],first['lastname'])"
      ],
      "metadata": {
        "colab": {
          "base_uri": "https://localhost:8080/"
        },
        "id": "uwnPIhtgnTKU",
        "outputId": "e105ac29-7275-42c8-c751-f0b0192cd558"
      },
      "execution_count": 15,
      "outputs": [
        {
          "output_type": "stream",
          "name": "stdout",
          "text": [
            "Hello Alana Anna\n"
          ]
        }
      ]
    },
    {
      "cell_type": "code",
      "source": [
        "#Create a dictionary that holds 2 key: value pairs:\n",
        "#Look through your dictionary and print each pair,\n",
        "\n",
        "people={}\n",
        "\n",
        "people['firstname'] = 'Alana'\n",
        "people['lastname'] = 'Anna'\n",
        "print(people)\n"
      ],
      "metadata": {
        "colab": {
          "base_uri": "https://localhost:8080/"
        },
        "id": "CVDHtqemqASq",
        "outputId": "9b328709-1c5a-41cb-bb0c-f7f8ead3629e"
      },
      "execution_count": 16,
      "outputs": [
        {
          "output_type": "stream",
          "name": "stdout",
          "text": [
            "{'firstname': 'Alana', 'lastname': 'Anna'}\n"
          ]
        }
      ]
    },
    {
      "cell_type": "code",
      "source": [
        "#Create a nested dictionary containing three dictionaries – these dictionaries could be anything (favorite pets, travel locations, etc.)\n",
        "#Loop through the dictionaries and print a message for each.\n",
        "travellife = {'Iceland': {'island': 'Reykjavik', 'why': 'mountains'},\n",
        "             'Bahamas': {'island': 'Bimini', 'why': 'beautiful waters'},\n",
        "             'Galapogas': {'island': 'galopagos', 'why': 'big turtles'}}\n",
        "\n",
        "for k,v in travellife.items():\n",
        "  print(f\"Go to {k} you will love {v['island']} because of the {v['why']}.\")"
      ],
      "metadata": {
        "colab": {
          "base_uri": "https://localhost:8080/"
        },
        "id": "blfIQCJRqFwt",
        "outputId": "9d895694-cfdf-4f31-b128-817dd53bb250"
      },
      "execution_count": 30,
      "outputs": [
        {
          "output_type": "stream",
          "name": "stdout",
          "text": [
            "Go to Iceland you will love Reykjavik because of the mountains.\n",
            "Go to Bahamas you will love Bimini because of the beautiful waters.\n",
            "Go to Galapogas you will love galopagos because of the big turtles.\n"
          ]
        }
      ]
    }
  ]
}