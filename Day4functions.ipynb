{
  "nbformat": 4,
  "nbformat_minor": 0,
  "metadata": {
    "colab": {
      "name": "Day4functions.ipynb",
      "provenance": [],
      "authorship_tag": "ABX9TyOOMoR8IcP6QT43nJKLOjXd",
      "include_colab_link": true
    },
    "kernelspec": {
      "name": "python3",
      "display_name": "Python 3"
    },
    "language_info": {
      "name": "python"
    }
  },
  "cells": [
    {
      "cell_type": "markdown",
      "metadata": {
        "id": "view-in-github",
        "colab_type": "text"
      },
      "source": [
        "<a href=\"https://colab.research.google.com/github/AlanaAnnaman/winter22/blob/main/Day4functions.ipynb\" target=\"_parent\"><img src=\"https://colab.research.google.com/assets/colab-badge.svg\" alt=\"Open In Colab\"/></a>"
      ]
    },
    {
      "cell_type": "markdown",
      "source": [
        "Functions"
      ],
      "metadata": {
        "id": "e06moz_TzhIZ"
      }
    },
    {
      "cell_type": "code",
      "source": [
        "def primecheck():   #define prime numbers\n",
        "  num1 = input('Enter a number to see if its prime: ')\n",
        "  if int(num1) > 1:\n",
        "    for x in range (2,int(num1)):\n",
        "      if (int(num1) % x) == 0:\n",
        "        print(f\"{num1} is not a prime number\")\n",
        "      break\n",
        "    else:\n",
        "      print(f\"{num1} is a prime number\")\n",
        "  else:\n",
        "      print(f\"{num1} is not a prime number\")\n",
        "\n",
        "primecheck()"
      ],
      "metadata": {
        "colab": {
          "base_uri": "https://localhost:8080/"
        },
        "id": "rLEfWOyMin9s",
        "outputId": "e1284eb0-e9b0-4f9b-c6e8-4d5805536039"
      },
      "execution_count": null,
      "outputs": [
        {
          "output_type": "stream",
          "name": "stdout",
          "text": [
            "Enter a number to see if its prime: 8\n",
            "8 is not a prime number\n"
          ]
        }
      ]
    },
    {
      "cell_type": "code",
      "source": [
        "number = int(input(\"Please enter a number: \")) #ask the user for a number\n",
        "hey = number % 2 #variable call hey storing if the number enter mod 2\n",
        "if hey > 0: #if statement if \"hey\" is greater than 0, it will print odd number\n",
        "    print(\"This is an odd number.\") #print function\n",
        "else:\n",
        "    print(\"This is an even number.\") #otherwise it'll print even number entered by the user."
      ],
      "metadata": {
        "id": "MZK3GahHzpM7"
      },
      "execution_count": null,
      "outputs": []
    },
    {
      "cell_type": "markdown",
      "source": [
        ""
      ],
      "metadata": {
        "id": "Aw9GLCMrio8H"
      }
    },
    {
      "cell_type": "code",
      "source": [
        "#DEF STATEMENTS \n",
        "#lets see how to build out a function's syntax in pythin. It has the following forms:\n",
        "\n",
        "def name_of_function(arg1,arg2):\n",
        "  #this is where the functions document string goes\n",
        "\n",
        "  #do stuff here\n",
        "  #return desired results"
      ],
      "metadata": {
        "id": "OsbrGNPUzjKT"
      },
      "execution_count": null,
      "outputs": []
    },
    {
      "cell_type": "code",
      "source": [
        "def greeting():\n",
        "  #this is inside of the function\n",
        "  #author: who did this function\n",
        "  #input:what arguements the function takes\n",
        "  #output: this function displays a greeting\n",
        "  print('Hi there')\n",
        "\n",
        "greeting()"
      ],
      "metadata": {
        "colab": {
          "base_uri": "https://localhost:8080/"
        },
        "id": "BKSno-DK2_PN",
        "outputId": "391af333-3a47-4488-8f39-518d28bb9fb4"
      },
      "execution_count": null,
      "outputs": [
        {
          "output_type": "stream",
          "name": "stdout",
          "text": [
            "Hi there\n"
          ]
        }
      ]
    },
    {
      "cell_type": "code",
      "source": [
        ""
      ],
      "metadata": {
        "id": "tidW4GosxyBj"
      },
      "execution_count": null,
      "outputs": []
    },
    {
      "cell_type": "code",
      "source": [
        "def something():\n",
        "\n",
        "  print('Hi how are you?')\n",
        "\n",
        "something()"
      ],
      "metadata": {
        "colab": {
          "base_uri": "https://localhost:8080/"
        },
        "id": "OsDlkkd7zjUx",
        "outputId": "2c9b28ce-4600-4e10-a74d-2240a113d45c"
      },
      "execution_count": null,
      "outputs": [
        {
          "output_type": "stream",
          "name": "stdout",
          "text": [
            "Hi how are you?\n"
          ]
        }
      ]
    },
    {
      "cell_type": "code",
      "source": [
        "#modified function\n",
        "\n",
        "def add_num(num1,num2):\n",
        "  return num1+num2\n",
        "\n",
        "add_num(3,6)\n"
      ],
      "metadata": {
        "colab": {
          "base_uri": "https://localhost:8080/"
        },
        "id": "fA8Xcm6Y9BZy",
        "outputId": "f6531276-ccfe-4105-d2d7-4f49e33c235e"
      },
      "execution_count": null,
      "outputs": [
        {
          "output_type": "execute_result",
          "data": {
            "text/plain": [
              "9"
            ]
          },
          "metadata": {},
          "execution_count": 20
        }
      ]
    },
    {
      "cell_type": "code",
      "source": [
        "#Create a function that subtracts\n",
        "\n",
        "def sub_num(num1,num2):\n",
        "  return num1-num2\n",
        "\n",
        "sub_num(11,5)"
      ],
      "metadata": {
        "colab": {
          "base_uri": "https://localhost:8080/"
        },
        "id": "h6hOh9XN9VaM",
        "outputId": "ea045832-97a4-4551-8603-9cbe867d142a"
      },
      "execution_count": null,
      "outputs": [
        {
          "output_type": "execute_result",
          "data": {
            "text/plain": [
              "6"
            ]
          },
          "metadata": {},
          "execution_count": 25
        }
      ]
    }
  ]
}