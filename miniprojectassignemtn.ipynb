{
  "nbformat": 4,
  "nbformat_minor": 0,
  "metadata": {
    "colab": {
      "name": "miniprojectassignemtn.ipynb",
      "provenance": [],
      "authorship_tag": "ABX9TyMOxwDu0R20rCmBM6wYaxNA",
      "include_colab_link": true
    },
    "kernelspec": {
      "name": "python3",
      "display_name": "Python 3"
    },
    "language_info": {
      "name": "python"
    }
  },
  "cells": [
    {
      "cell_type": "markdown",
      "metadata": {
        "id": "view-in-github",
        "colab_type": "text"
      },
      "source": [
        "<a href=\"https://colab.research.google.com/github/AlanaAnnaman/winter22/blob/main/miniprojectassignemtn.ipynb\" target=\"_parent\"><img src=\"https://colab.research.google.com/assets/colab-badge.svg\" alt=\"Open In Colab\"/></a>"
      ]
    },
    {
      "cell_type": "markdown",
      "source": [
        "asking a user to enter a number to determine whether it is even or odd.\n",
        "\n"
      ],
      "metadata": {
        "id": "NOq-nihWwbPo"
      }
    },
    {
      "cell_type": "code",
      "source": [
        "number = int(input(\"Please enter a number: \")) #ask the user for a number\n",
        "hey = number % 2 #variable call hey storing if the number enter mod 2\n",
        "if hey > 0: #if statement if \"hey\" is greater than 0, it will print odd number\n",
        "    print(\"This is an odd number.\") #print function\n",
        "else:\n",
        "    print(\"This is an even number.\") #otherwise it'll print even number entered by the user."
      ],
      "metadata": {
        "id": "ibTL--8AwjNB"
      },
      "execution_count": null,
      "outputs": []
    }
  ]
}