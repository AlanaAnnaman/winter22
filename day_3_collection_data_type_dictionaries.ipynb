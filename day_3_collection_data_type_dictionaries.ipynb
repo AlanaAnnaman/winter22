{
  "nbformat": 4,
  "nbformat_minor": 0,
  "metadata": {
    "colab": {
      "name": "day 3 collection data type-dictionaries.ipynb",
      "provenance": [],
      "collapsed_sections": [],
      "authorship_tag": "ABX9TyOf5p2wmnP0zTmrLyZINxys",
      "include_colab_link": true
    },
    "kernelspec": {
      "name": "python3",
      "display_name": "Python 3"
    },
    "language_info": {
      "name": "python"
    }
  },
  "cells": [
    {
      "cell_type": "markdown",
      "metadata": {
        "id": "view-in-github",
        "colab_type": "text"
      },
      "source": [
        "<a href=\"https://colab.research.google.com/github/AlanaAnnaman/winter22/blob/main/day_3_collection_data_type_dictionaries.ipynb\" target=\"_parent\"><img src=\"https://colab.research.google.com/assets/colab-badge.svg\" alt=\"Open In Colab\"/></a>"
      ]
    },
    {
      "cell_type": "markdown",
      "source": [
        "day 3 collection data type-dictionaries"
      ],
      "metadata": {
        "id": "LZCq-Yb-uAuH"
      }
    },
    {
      "cell_type": "code",
      "source": [
        "patient_2 = {}\n",
        "patient_2['first name'] = 'John'\n",
        "patient_2['Last Name'] = 'Wick'\n",
        "patient_2"
      ],
      "metadata": {
        "colab": {
          "base_uri": "https://localhost:8080/"
        },
        "id": "yI7l1FwmvhBw",
        "outputId": "34d44a0d-b320-4356-87c0-4a6bb12329eb"
      },
      "execution_count": 10,
      "outputs": [
        {
          "output_type": "execute_result",
          "data": {
            "text/plain": [
              "{'Last Name': 'Wick', 'first name': 'John'}"
            ]
          },
          "metadata": {},
          "execution_count": 10
        }
      ]
    },
    {
      "cell_type": "code",
      "source": [
        "patient_2['Objects'] = ['fruits', 12, 2.4,'strings']\n",
        "patient_2['Objects']\n"
      ],
      "metadata": {
        "colab": {
          "base_uri": "https://localhost:8080/"
        },
        "id": "NLE7SrSgwn_S",
        "outputId": "667de55b-42b7-4677-fd64-b02fbfe8bb81"
      },
      "execution_count": 33,
      "outputs": [
        {
          "output_type": "execute_result",
          "data": {
            "text/plain": [
              "['fruits', 12, 2.4, 'strings']"
            ]
          },
          "metadata": {},
          "execution_count": 33
        }
      ]
    },
    {
      "cell_type": "code",
      "source": [
        "patient_3 = {'Name': 'Jack', 'Last Name': 'Sparrow', 'MRN': '001234567', 'DOB': '22231846'}\n",
        "patient_3"
      ],
      "metadata": {
        "colab": {
          "base_uri": "https://localhost:8080/"
        },
        "id": "FC3FJ-p-zFRn",
        "outputId": "cd1f50b0-5447-430d-9026-1d46bb483d15"
      },
      "execution_count": 36,
      "outputs": [
        {
          "output_type": "execute_result",
          "data": {
            "text/plain": [
              "{'DOB': '22231846', 'Last Name': 'Sparrow', 'MRN': '001234567', 'Name': 'Jack'}"
            ]
          },
          "metadata": {},
          "execution_count": 36
        }
      ]
    },
    {
      "cell_type": "code",
      "source": [
        "print(f'The name of the patient is {patient_3[\"Name\"]}')\n",
        "print(f'The name of the patient is {patient_3[\"Last Name\"]}')\n",
        "print(f'The ID of the patient is {patient_3[\"MRN\"]}')\n",
        "print(f'The DOB of the patient is {patient_3[\"DOB\"]}')"
      ],
      "metadata": {
        "colab": {
          "base_uri": "https://localhost:8080/"
        },
        "id": "2nByr6jCz6WS",
        "outputId": "d90ab941-962c-44ea-e6a3-9e9390a40ea0"
      },
      "execution_count": 41,
      "outputs": [
        {
          "output_type": "stream",
          "name": "stdout",
          "text": [
            "The name of the patient is Jack\n",
            "The name of the patient is Sparrow\n",
            "The ID of the patient is 001234567\n",
            "The DOB of the patient is 22231846\n"
          ]
        }
      ]
    },
    {
      "cell_type": "markdown",
      "source": [
        "Nesting with Dictionaries\n"
      ],
      "metadata": {
        "id": "2UX4IHNZ16oQ"
      }
    },
    {
      "cell_type": "code",
      "source": [
        "d = {'key1':{'nestkey':{'subnestkey': 'value'}}}\n",
        "d['key1']['nestkey']['subnestkey']"
      ],
      "metadata": {
        "colab": {
          "base_uri": "https://localhost:8080/",
          "height": 37
        },
        "id": "26E4GHm319tC",
        "outputId": "6e971d14-9bc5-40b9-dec0-46e2b6386da5"
      },
      "execution_count": 42,
      "outputs": [
        {
          "output_type": "execute_result",
          "data": {
            "application/vnd.google.colaboratory.intrinsic+json": {
              "type": "string"
            },
            "text/plain": [
              "'value'"
            ]
          },
          "metadata": {},
          "execution_count": 42
        }
      ]
    },
    {
      "cell_type": "code",
      "source": [
        ""
      ],
      "metadata": {
        "id": "rCKSolFb26n-"
      },
      "execution_count": null,
      "outputs": []
    }
  ]
}